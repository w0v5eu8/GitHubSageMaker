{
 "cells": [
  {
   "cell_type": "code",
   "execution_count": null,
   "id": "323ba387-a47e-4e76-9b81-04227be308e6",
   "metadata": {},
   "outputs": [],
   "source": [
    "!mkdir -p ~/.ssh/\n",
    "!cp /home/ec2-user/SageMaker/id_rsa ~/.ssh/\n",
    "!chmod 400 ~/.ssh/id_rsa\n",
    "!ssh-keyscan -t rsa github.com >> ~/.ssh/known_hosts\n",
    "!ssh -T git@github.com"
   ]
  }
 ],
 "metadata": {
  "kernelspec": {
   "display_name": "Custom (4nrnd-wveu)",
   "language": "python",
   "name": "4nrnd-wveu"
  },
  "language_info": {
   "codemirror_mode": {
    "name": "ipython",
    "version": 3
   },
   "file_extension": ".py",
   "mimetype": "text/x-python",
   "name": "python",
   "nbconvert_exporter": "python",
   "pygments_lexer": "ipython3",
   "version": "3.7.12"
  }
 },
 "nbformat": 4,
 "nbformat_minor": 5
}
