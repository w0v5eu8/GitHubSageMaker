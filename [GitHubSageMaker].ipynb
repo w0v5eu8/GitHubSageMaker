{
 "cells": [
  {
   "cell_type": "markdown",
   "metadata": {
    "id": "PdBlXVqEaT4x"
   },
   "source": [
    "# Git Setting"
   ]
  },
  {
   "cell_type": "markdown",
   "metadata": {
    "id": "Dib4VFMpQCKw"
   },
   "source": [
    "## Generating SSH Key\n",
    "\n",
    "키를 만들어서 공개키를 GitHub에 등록했으면 다시 실하하면 안 됨."
   ]
  },
  {
   "cell_type": "code",
   "execution_count": null,
   "metadata": {
    "colab": {
     "base_uri": "https://localhost:8080/"
    },
    "executionInfo": {
     "elapsed": 16925,
     "status": "ok",
     "timestamp": 1702304414940,
     "user": {
      "displayName": "Hoon-Hee Kim",
      "userId": "00651126104387888048"
     },
     "user_tz": -540
    },
    "id": "F4VMLkDNP29c",
    "outputId": "0715a4c5-1c2e-4876-d44b-30f7e8e49168"
   },
   "outputs": [
    {
     "name": "stdout",
     "output_type": "stream",
     "text": [
      "Generating public/private rsa key pair.\n",
      "Enter file in which to save the key (/root/.ssh/id_rsa): \n",
      "Created directory '/root/.ssh'.\n",
      "Enter passphrase (empty for no passphrase): \n",
      "Enter same passphrase again: \n",
      "Your identification has been saved in /root/.ssh/id_rsa\n",
      "Your public key has been saved in /root/.ssh/id_rsa.pub\n",
      "The key fingerprint is:\n",
      "SHA256:EubwArMAx1Z4VJv2uShGjDs+ZqxgbCdcIojc4qdodYU root@e701c8314bb2\n",
      "The key's randomart image is:\n",
      "+---[RSA 3072]----+\n",
      "|...+o..          |\n",
      "|..+ .  o         |\n",
      "|..o.. B          |\n",
      "|+..* E + .       |\n",
      "|++oo+ = S        |\n",
      "|= ++ o o .       |\n",
      "|.O+o+ . .        |\n",
      "|=oXo .           |\n",
      "|+=..             |\n",
      "+----[SHA256]-----+\n"
     ]
    }
   ],
   "source": [
    "!ssh-keygen"
   ]
  },
  {
   "cell_type": "code",
   "execution_count": null,
   "metadata": {
    "colab": {
     "base_uri": "https://localhost:8080/"
    },
    "executionInfo": {
     "elapsed": 821,
     "status": "ok",
     "timestamp": 1702304459470,
     "user": {
      "displayName": "Hoon-Hee Kim",
      "userId": "00651126104387888048"
     },
     "user_tz": -540
    },
    "id": "Gn1RvPCbQHnr",
    "outputId": "8c042df1-01b5-4071-d818-f0b24d041d1e"
   },
   "outputs": [
    {
     "name": "stdout",
     "output_type": "stream",
     "text": [
      "/root/.ssh\n"
     ]
    }
   ],
   "source": [
    "cd ~/.ssh/"
   ]
  },
  {
   "cell_type": "code",
   "execution_count": null,
   "metadata": {
    "colab": {
     "base_uri": "https://localhost:8080/"
    },
    "executionInfo": {
     "elapsed": 9,
     "status": "ok",
     "timestamp": 1702304484300,
     "user": {
      "displayName": "Hoon-Hee Kim",
      "userId": "00651126104387888048"
     },
     "user_tz": -540
    },
    "id": "8Pe_N_67QPMf",
    "outputId": "2a18929f-3216-4192-9e59-3bc029e42ed7"
   },
   "outputs": [
    {
     "name": "stdout",
     "output_type": "stream",
     "text": [
      "id_rsa\tid_rsa.pub\n"
     ]
    }
   ],
   "source": [
    "!ls"
   ]
  },
  {
   "cell_type": "code",
   "execution_count": null,
   "metadata": {
    "colab": {
     "base_uri": "https://localhost:8080/"
    },
    "executionInfo": {
     "elapsed": 341,
     "status": "ok",
     "timestamp": 1702304505700,
     "user": {
      "displayName": "Hoon-Hee Kim",
      "userId": "00651126104387888048"
     },
     "user_tz": -540
    },
    "id": "-C9_FKcpQSbM",
    "outputId": "671fe1aa-c89e-412e-bea3-9b0ef62c0038",
    "tags": []
   },
   "outputs": [],
   "source": [
    "!cat id_rsa.pub"
   ]
  },
  {
   "cell_type": "markdown",
   "metadata": {
    "id": "ve4m1wjMUUrw"
   },
   "source": [
    "GitHub 홈페이지 로그인 - Setting - SSH에 공개키(id_rsa.pub의 내용) 등록하기"
   ]
  },
  {
   "cell_type": "markdown",
   "metadata": {
    "id": "CNMGbJveY2iz"
   },
   "source": [
    "Key File Backup"
   ]
  },
  {
   "cell_type": "code",
   "execution_count": null,
   "metadata": {
    "id": "hdcNLtcGQWyW"
   },
   "outputs": [],
   "source": [
    "!cp ~/.ssh/id_rsa /home/ec2-user/SageMaker\n",
    "!cp ~/.ssh/id_rsa.pub /home/ec2-user/SageMaker"
   ]
  },
  {
   "cell_type": "markdown",
   "metadata": {
    "id": "0PBY30YxDdyc"
   },
   "source": [
    "## SSH Setting\n",
    "백업한 id_rsa 파일을 로컬에 저장해야 함"
   ]
  },
  {
   "cell_type": "code",
   "execution_count": 1,
   "metadata": {
    "colab": {
     "base_uri": "https://localhost:8080/"
    },
    "executionInfo": {
     "elapsed": 443,
     "status": "ok",
     "timestamp": 1722356559596,
     "user": {
      "displayName": "Hoon-Hee Kim",
      "userId": "00651126104387888048"
     },
     "user_tz": -540
    },
    "id": "CKRSvA_Jc0sq",
    "outputId": "8e73fa2b-a6c8-4ee8-9445-9d20adf3b87f"
   },
   "outputs": [
    {
     "name": "stdout",
     "output_type": "stream",
     "text": [
      "/home/ec2-user/SageMaker\n"
     ]
    }
   ],
   "source": [
    "cd /home/ec2-user/SageMaker"
   ]
  },
  {
   "cell_type": "code",
   "execution_count": 2,
   "metadata": {
    "colab": {
     "base_uri": "https://localhost:8080/"
    },
    "executionInfo": {
     "elapsed": 1995,
     "status": "ok",
     "timestamp": 1722356574894,
     "user": {
      "displayName": "Hoon-Hee Kim",
      "userId": "00651126104387888048"
     },
     "user_tz": -540
    },
    "id": "y-OLMAG7UhZP",
    "outputId": "dbfddad9-8f6f-493a-cfe3-877ce59966fc"
   },
   "outputs": [
    {
     "name": "stdout",
     "output_type": "stream",
     "text": [
      "# github.com:22 SSH-2.0-babeld-ceb3dcb73\n",
      "Warning: Permanently added the RSA host key for IP address '20.200.245.247' to the list of known hosts.\n",
      "Hi w0v5eu8! You've successfully authenticated, but GitHub does not provide shell access.\n"
     ]
    }
   ],
   "source": [
    "!mkdir -p ~/.ssh/\n",
    "!cp id_rsa ~/.ssh/\n",
    "!chmod 400 ~/.ssh/id_rsa\n",
    "!ssh-keyscan -t rsa github.com >> ~/.ssh/known_hosts\n",
    "!ssh -T git@github.com"
   ]
  },
  {
   "cell_type": "markdown",
   "metadata": {
    "id": "WCcXFcBWV-KF"
   },
   "source": [
    "## Git Cloning"
   ]
  },
  {
   "cell_type": "code",
   "execution_count": 3,
   "metadata": {
    "colab": {
     "base_uri": "https://localhost:8080/"
    },
    "executionInfo": {
     "elapsed": 531,
     "status": "ok",
     "timestamp": 1722356580542,
     "user": {
      "displayName": "Hoon-Hee Kim",
      "userId": "00651126104387888048"
     },
     "user_tz": -540
    },
    "id": "nbXSJRIpDUeX",
    "outputId": "aca11078-474a-40bf-d68d-096dd402566c"
   },
   "outputs": [
    {
     "name": "stdout",
     "output_type": "stream",
     "text": [
      "/home/ec2-user/SageMaker\n"
     ]
    }
   ],
   "source": [
    "cd /home/ec2-user/SageMaker"
   ]
  },
  {
   "cell_type": "code",
   "execution_count": 4,
   "metadata": {
    "colab": {
     "base_uri": "https://localhost:8080/"
    },
    "executionInfo": {
     "elapsed": 1923,
     "status": "ok",
     "timestamp": 1722356586374,
     "user": {
      "displayName": "Hoon-Hee Kim",
      "userId": "00651126104387888048"
     },
     "user_tz": -540
    },
    "id": "6HkNkHRhDUus",
    "outputId": "ea3d578e-cd6d-4db8-da8c-7c4bce81629e"
   },
   "outputs": [
    {
     "name": "stdout",
     "output_type": "stream",
     "text": [
      "Cloning into 'GitHubSageMaker'...\n",
      "remote: Enumerating objects: 15, done.\u001b[K\n",
      "remote: Counting objects: 100% (15/15), done.\u001b[K\n",
      "remote: Compressing objects: 100% (11/11), done.\u001b[K\n",
      "remote: Total 15 (delta 5), reused 9 (delta 2), pack-reused 0\u001b[K\n",
      "Receiving objects: 100% (15/15), done.\n",
      "Resolving deltas: 100% (5/5), done.\n"
     ]
    }
   ],
   "source": [
    "!git clone git@github.com:w0v5eu8/GitHubSageMaker.git"
   ]
  },
  {
   "cell_type": "markdown",
   "metadata": {
    "id": "Osd2id2cXF7l"
   },
   "source": [
    "# Git Command\n",
    "Setting이 끝난 후 에는 아래를 이용하여 git 커맨드 실행\n",
    "백업한 id_rsa 파일을 로컬에 저장해야 함"
   ]
  },
  {
   "cell_type": "code",
   "execution_count": 5,
   "metadata": {
    "colab": {
     "base_uri": "https://localhost:8080/"
    },
    "executionInfo": {
     "elapsed": 437,
     "status": "ok",
     "timestamp": 1722356678493,
     "user": {
      "displayName": "Hoon-Hee Kim",
      "userId": "00651126104387888048"
     },
     "user_tz": -540
    },
    "id": "SYXMG-OtdQWr",
    "outputId": "05fe1a04-83b6-4d94-f469-817e8796f163"
   },
   "outputs": [
    {
     "name": "stdout",
     "output_type": "stream",
     "text": [
      "/home/ec2-user/SageMaker\n"
     ]
    }
   ],
   "source": [
    "cd /home/ec2-user/SageMaker"
   ]
  },
  {
   "cell_type": "code",
   "execution_count": 6,
   "metadata": {
    "colab": {
     "base_uri": "https://localhost:8080/"
    },
    "executionInfo": {
     "elapsed": 1919,
     "status": "ok",
     "timestamp": 1722356683687,
     "user": {
      "displayName": "Hoon-Hee Kim",
      "userId": "00651126104387888048"
     },
     "user_tz": -540
    },
    "id": "1RgMv6ZkaMy0",
    "outputId": "340d9a96-511d-4d1d-d7e8-f4e9e2d1ae1c"
   },
   "outputs": [
    {
     "name": "stdout",
     "output_type": "stream",
     "text": [
      "cp: cannot create regular file ‘/home/ec2-user/.ssh/id_rsa’: Permission denied\n",
      "# github.com:22 SSH-2.0-babeld-ceb3dcb73\n",
      "Hi w0v5eu8! You've successfully authenticated, but GitHub does not provide shell access.\n"
     ]
    }
   ],
   "source": [
    "!mkdir -p ~/.ssh/\n",
    "!cp id_rsa ~/.ssh/\n",
    "!chmod 400 ~/.ssh/id_rsa\n",
    "!ssh-keyscan -t rsa github.com >> ~/.ssh/known_hosts\n",
    "!ssh -T git@github.com"
   ]
  },
  {
   "cell_type": "code",
   "execution_count": 7,
   "metadata": {
    "colab": {
     "base_uri": "https://localhost:8080/"
    },
    "executionInfo": {
     "elapsed": 451,
     "status": "ok",
     "timestamp": 1722356698644,
     "user": {
      "displayName": "Hoon-Hee Kim",
      "userId": "00651126104387888048"
     },
     "user_tz": -540
    },
    "id": "VHNFvreiXO48",
    "outputId": "7c385a28-2a06-44da-b4c2-cb017fa26230"
   },
   "outputs": [
    {
     "name": "stdout",
     "output_type": "stream",
     "text": [
      "/home/ec2-user/SageMaker/GitHubSageMaker\n"
     ]
    }
   ],
   "source": [
    "cd /home/ec2-user/SageMaker/GitHubSageMaker"
   ]
  },
  {
   "cell_type": "code",
   "execution_count": 8,
   "metadata": {
    "executionInfo": {
     "elapsed": 564,
     "status": "ok",
     "timestamp": 1722356752020,
     "user": {
      "displayName": "Hoon-Hee Kim",
      "userId": "00651126104387888048"
     },
     "user_tz": -540
    },
    "id": "84obUfcPYLZ6"
   },
   "outputs": [],
   "source": [
    "!git config --local user.email 'w0v5eu8@gmail.com'\n",
    "!git config --local user.name 'w0v5eu8'"
   ]
  },
  {
   "cell_type": "markdown",
   "metadata": {},
   "source": [
    "## Git Push Pull Command\n",
    "It can alternatively be Git GUI"
   ]
  },
  {
   "cell_type": "code",
   "execution_count": 9,
   "metadata": {
    "colab": {
     "base_uri": "https://localhost:8080/"
    },
    "executionInfo": {
     "elapsed": 2054,
     "status": "ok",
     "timestamp": 1722356759406,
     "user": {
      "displayName": "Hoon-Hee Kim",
      "userId": "00651126104387888048"
     },
     "user_tz": -540
    },
    "id": "Zr73U_d3dg-S",
    "outputId": "f0197157-1856-4c94-b1e4-6fde2fa99378"
   },
   "outputs": [
    {
     "name": "stdout",
     "output_type": "stream",
     "text": [
      "[main 7bc4631] Commit\n",
      " 4 files changed, 318 deletions(-)\n",
      " delete mode 100644 .ipynb_checkpoints/[GitHubSageMaker_Connection]-checkpoint.ipynb\n",
      " delete mode 100644 .ipynb_checkpoints/[GitHubSageMaker_Setting]-checkpoint.ipynb\n",
      " delete mode 100644 [GitHubSageMaker_Connection].ipynb\n",
      " delete mode 100644 [GitHubSageMaker_Setting].ipynb\n",
      "Enumerating objects: 3, done.\n",
      "Counting objects: 100% (3/3), done.\n",
      "Delta compression using up to 4 threads\n",
      "Compressing objects: 100% (1/1), done.\n",
      "Writing objects: 100% (2/2), 222 bytes | 222.00 KiB/s, done.\n",
      "Total 2 (delta 0), reused 1 (delta 0), pack-reused 0\n",
      "To github.com:w0v5eu8/GitHubSageMaker.git\n",
      "   9c77ac8..7bc4631  main -> main\n"
     ]
    }
   ],
   "source": [
    "!git add .\n",
    "!git commit -m 'Commit'\n",
    "!git push"
   ]
  },
  {
   "cell_type": "code",
   "execution_count": 10,
   "metadata": {
    "colab": {
     "base_uri": "https://localhost:8080/"
    },
    "executionInfo": {
     "elapsed": 1806,
     "status": "ok",
     "timestamp": 1722356766023,
     "user": {
      "displayName": "Hoon-Hee Kim",
      "userId": "00651126104387888048"
     },
     "user_tz": -540
    },
    "id": "ho3ynpmEYV7J",
    "outputId": "59acdecd-724c-426f-aef8-190a711d7772"
   },
   "outputs": [
    {
     "name": "stdout",
     "output_type": "stream",
     "text": [
      "Already up to date.\n"
     ]
    }
   ],
   "source": [
    "!git pull"
   ]
  }
 ],
 "metadata": {
  "colab": {
   "authorship_tag": "ABX9TyMyGBkvWHaaBVxIm3ThwRuF",
   "provenance": []
  },
  "kernelspec": {
   "display_name": "Custom (4nrnd-wveu)",
   "language": "python",
   "name": "4nrnd-wveu"
  },
  "language_info": {
   "codemirror_mode": {
    "name": "ipython",
    "version": 3
   },
   "file_extension": ".py",
   "mimetype": "text/x-python",
   "name": "python",
   "nbconvert_exporter": "python",
   "pygments_lexer": "ipython3",
   "version": "3.7.12"
  }
 },
 "nbformat": 4,
 "nbformat_minor": 4
}
